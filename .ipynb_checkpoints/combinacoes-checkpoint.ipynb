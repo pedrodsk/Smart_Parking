{
 "cells": [
  {
   "cell_type": "code",
   "execution_count": 17,
   "id": "ddc7df4b-9c5c-4188-a31b-3392c51ec04d",
   "metadata": {},
   "outputs": [],
   "source": [
    "import itertools\n",
    "import numpy as np"
   ]
  },
  {
   "cell_type": "code",
   "execution_count": 71,
   "id": "f467972a-7ee7-4273-a3e0-1ad5b5ea76ad",
   "metadata": {},
   "outputs": [
    {
     "data": {
      "text/plain": [
       "[('A_1', 'P_1', 'N_1'),\n",
       " ('A_1', 'P_1', 'N_2'),\n",
       " ('A_1', 'P_1', 'N_3'),\n",
       " ('A_1', 'P_1', 'N_4'),\n",
       " ('A_1', 'P_2', 'N_1'),\n",
       " ('A_1', 'P_2', 'N_2'),\n",
       " ('A_1', 'P_2', 'N_3'),\n",
       " ('A_1', 'P_2', 'N_4'),\n",
       " ('A_2', 'P_1', 'N_1'),\n",
       " ('A_2', 'P_1', 'N_2'),\n",
       " ('A_2', 'P_1', 'N_3'),\n",
       " ('A_2', 'P_1', 'N_4'),\n",
       " ('A_2', 'P_2', 'N_1'),\n",
       " ('A_2', 'P_2', 'N_2'),\n",
       " ('A_2', 'P_2', 'N_3'),\n",
       " ('A_2', 'P_2', 'N_4'),\n",
       " ('A_3', 'P_1', 'N_1'),\n",
       " ('A_3', 'P_1', 'N_2'),\n",
       " ('A_3', 'P_1', 'N_3'),\n",
       " ('A_3', 'P_1', 'N_4'),\n",
       " ('A_3', 'P_2', 'N_1'),\n",
       " ('A_3', 'P_2', 'N_2'),\n",
       " ('A_3', 'P_2', 'N_3'),\n",
       " ('A_3', 'P_2', 'N_4')]"
      ]
     },
     "execution_count": 71,
     "metadata": {},
     "output_type": "execute_result"
    }
   ],
   "source": [
    "a = ['A_1','A_2','A_3']       # ANCORAS\n",
    "b = ['P_1','P_2']             # POSITIVAS\n",
    "c = ['N_1','N_2','N_3','N_4'] # NEGATIVAS\n",
    "d = [a,b,c]\n",
    "e = itertools.product(*d)\n",
    "list(e)"
   ]
  },
  {
   "cell_type": "code",
   "execution_count": 75,
   "id": "d8a10d2b-2551-441b-a669-bb2ffce02f4d",
   "metadata": {},
   "outputs": [
    {
     "data": {
      "text/plain": [
       "[(['A', 'P', 'A', 'P', 'A', 'P', 'A', 'P', 'A', 'P'], ['N'])]"
      ]
     },
     "execution_count": 75,
     "metadata": {},
     "output_type": "execute_result"
    }
   ],
   "source": [
    "a = ['A','P']*5       # ANCORAS E POSITIVAS\n",
    "b = ['N']*1\n",
    "comb1 = itertools.combinations([a,b],2)\n",
    "list(comb1)\n",
    "\n",
    "# c = ['N_1','N_2','N_3','N_4'] \n",
    "# d = [a,b,c]\n",
    "\n",
    "# list(itertools.product(*d))"
   ]
  },
  {
   "cell_type": "code",
   "execution_count": 40,
   "id": "1ca016a3-4dcf-4de6-bbbb-db19b53704d1",
   "metadata": {},
   "outputs": [
    {
     "data": {
      "text/plain": [
       "[(1, 2),\n",
       " (1, 3),\n",
       " (1, 4),\n",
       " (1, 5),\n",
       " (2, 3),\n",
       " (2, 4),\n",
       " (2, 5),\n",
       " (3, 4),\n",
       " (3, 5),\n",
       " (4, 5)]"
      ]
     },
     "execution_count": 40,
     "metadata": {},
     "output_type": "execute_result"
    }
   ],
   "source": [
    "a = [1,2,3,4,5]\n",
    "a = itertools.combinations(a,2)\n",
    "list(a)"
   ]
  },
  {
   "cell_type": "code",
   "execution_count": 49,
   "id": "3e5823a9-969d-4cf9-b5a3-70f4ad75256b",
   "metadata": {},
   "outputs": [
    {
     "data": {
      "text/plain": [
       "['a', 'a']"
      ]
     },
     "execution_count": 49,
     "metadata": {},
     "output_type": "execute_result"
    }
   ],
   "source": [
    "['a']*2"
   ]
  },
  {
   "cell_type": "code",
   "execution_count": 48,
   "id": "bdeb3faa-e053-4d20-80d9-b1ce4d2d0aee",
   "metadata": {},
   "outputs": [
    {
     "data": {
      "text/plain": [
       "32"
      ]
     },
     "execution_count": 48,
     "metadata": {},
     "output_type": "execute_result"
    }
   ],
   "source": [
    "a=[1,2,3]\n",
    "b=[4,5,6]\n",
    "np.dot(a,b)"
   ]
  },
  {
   "cell_type": "code",
   "execution_count": null,
   "id": "4276acc4-2174-4782-88af-f4be6e43ab8a",
   "metadata": {},
   "outputs": [],
   "source": []
  }
 ],
 "metadata": {
  "kernelspec": {
   "display_name": "Python 3 (ipykernel)",
   "language": "python",
   "name": "python3"
  },
  "language_info": {
   "codemirror_mode": {
    "name": "ipython",
    "version": 3
   },
   "file_extension": ".py",
   "mimetype": "text/x-python",
   "name": "python",
   "nbconvert_exporter": "python",
   "pygments_lexer": "ipython3",
   "version": "3.9.5"
  }
 },
 "nbformat": 4,
 "nbformat_minor": 5
}
