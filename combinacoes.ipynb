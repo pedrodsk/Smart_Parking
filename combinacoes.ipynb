{
 "cells": [
  {
   "cell_type": "code",
   "execution_count": null,
   "id": "ddc7df4b-9c5c-4188-a31b-3392c51ec04d",
   "metadata": {},
   "outputs": [],
   "source": [
    "import itertools\n",
    "import numpy as np"
   ]
  },
  {
   "cell_type": "code",
   "execution_count": null,
   "id": "f467972a-7ee7-4273-a3e0-1ad5b5ea76ad",
   "metadata": {},
   "outputs": [
    {
     "data": {
      "text/plain": [
       "80"
      ]
     },
     "execution_count": 6,
     "metadata": {},
     "output_type": "execute_result"
    }
   ],
   "source": [
    "a = ['A_1','A_2','A_3','A_4','A_5','A_6','A_7','A_8','A_9','A_10']       # ANCORAS\n",
    "b = ['P_1','P_2','P_3','P_4','P_5']             # POSITIVAS\n",
    "c = ['N']*7 # NEGATIVAS\n",
    "d = [a,b,c]\n",
    "e = itertools.product(*d)\n",
    "list(e))"
   ]
  },
  {
   "cell_type": "code",
   "execution_count": null,
   "id": "d8a10d2b-2551-441b-a669-bb2ffce02f4d",
   "metadata": {},
   "outputs": [
    {
     "data": {
      "text/plain": [
       "[(['A', 'P', 'A', 'P', 'A', 'P', 'A', 'P', 'A', 'P'], ['N'])]"
      ]
     },
     "execution_count": 75,
     "metadata": {},
     "output_type": "execute_result"
    }
   ],
   "source": [
    "a = ['A','P']*5       # ANCORAS E POSITIVAS\n",
    "b = ['N']*1\n",
    "comb1 = itertools.combinations([a,b],2)\n",
    "list(comb1)\n",
    "\n",
    "# c = ['N_1','N_2','N_3','N_4'] \n",
    "# d = [a,b,c]\n",
    "\n",
    "# list(itertools.product(*d))"
   ]
  },
  {
   "cell_type": "code",
   "execution_count": null,
   "id": "1ca016a3-4dcf-4de6-bbbb-db19b53704d1",
   "metadata": {},
   "outputs": [
    {
     "data": {
      "text/plain": [
       "[(1, 2),\n",
       " (1, 3),\n",
       " (1, 4),\n",
       " (1, 5),\n",
       " (2, 3),\n",
       " (2, 4),\n",
       " (2, 5),\n",
       " (3, 4),\n",
       " (3, 5),\n",
       " (4, 5)]"
      ]
     },
     "execution_count": 40,
     "metadata": {},
     "output_type": "execute_result"
    }
   ],
   "source": [
    "a = [1,2,3,4,5]\n",
    "a = itertools.combinations(a,2)\n",
    "list(a)"
   ]
  },
  {
   "cell_type": "code",
   "execution_count": null,
   "id": "3e5823a9-969d-4cf9-b5a3-70f4ad75256b",
   "metadata": {},
   "outputs": [
    {
     "data": {
      "text/plain": [
       "['a', 'a']"
      ]
     },
     "execution_count": 49,
     "metadata": {},
     "output_type": "execute_result"
    }
   ],
   "source": [
    "['a']*2"
   ]
  },
  {
   "cell_type": "code",
   "execution_count": null,
   "id": "bdeb3faa-e053-4d20-80d9-b1ce4d2d0aee",
   "metadata": {},
   "outputs": [
    {
     "data": {
      "text/plain": [
       "32"
      ]
     },
     "execution_count": 48,
     "metadata": {},
     "output_type": "execute_result"
    }
   ],
   "source": [
    "a=[1,2,3]\n",
    "b=[4,5,6]\n",
    "np.dot(a,b)"
   ]
  },
  {
   "cell_type": "code",
   "execution_count": null,
   "id": "4276acc4-2174-4782-88af-f4be6e43ab8a",
   "metadata": {},
   "outputs": [
    {
     "data": {
      "text/plain": [
       "[(1, 5),\n",
       " (1, 6),\n",
       " (1, 7),\n",
       " (2, 5),\n",
       " (2, 6),\n",
       " (2, 7),\n",
       " (3, 5),\n",
       " (3, 6),\n",
       " (3, 7),\n",
       " (4, 5),\n",
       " (4, 6),\n",
       " (4, 7)]"
      ]
     },
     "execution_count": 5,
     "metadata": {},
     "output_type": "execute_result"
    }
   ],
   "source": [
    "a= [1,2,3,4]\n",
    "b = [5,6,7]\n",
    "e = itertools.product(*[a,b])\n",
    "list(e)"
   ]
  },
  {
   "cell_type": "code",
   "execution_count": null,
   "id": "2e0cb0cb-b820-4980-88d4-9611697c46eb",
   "metadata": {},
   "outputs": [
    {
     "data": {
      "text/plain": [
       "7300"
      ]
     },
     "execution_count": 9,
     "metadata": {},
     "output_type": "execute_result"
    }
   ],
   "source": [
    "a = ['duplas_1','duplas_2','duplas_3','duplas_4','duplas_5','duplas_6','duplas_7','duplas_8','duplas_9','duplas_10']       # DUPLAS POR ID\n",
    "c = ['N']*5*73 # NEGATIVAS\n",
    "d = [a,b,c]\n",
    "e = itertools.product(*d)\n",
    "len(list(e))"
   ]
  },
  {
   "cell_type": "code",
   "execution_count": null,
   "id": "ee4db162-88fe-4faa-9ea0-cad3944a590d",
   "metadata": {},
   "outputs": [
    {
     "data": {
      "text/plain": [
       "270100"
      ]
     },
     "execution_count": 10,
     "metadata": {},
     "output_type": "execute_result"
    }
   ],
   "source": [
    "10*5*73*74"
   ]
  },
  {
   "cell_type": "code",
   "execution_count": null,
   "id": "25755ef4-bec1-4828-96a9-ad430244d073",
   "metadata": {},
   "outputs": [],
   "source": []
  }
 ],
 "metadata": {
  "kernelspec": {
   "display_name": "Python 3 (ipykernel)",
   "language": "python",
   "name": "python3"
  },
  "language_info": {
   "codemirror_mode": {
    "name": "ipython",
    "version": 3
   },
   "file_extension": ".py",
   "mimetype": "text/x-python",
   "name": "python",
   "nbconvert_exporter": "python",
   "pygments_lexer": "ipython3",
   "version": "3.9.5"
  }
 },
 "nbformat": 4,
 "nbformat_minor": 5
}
