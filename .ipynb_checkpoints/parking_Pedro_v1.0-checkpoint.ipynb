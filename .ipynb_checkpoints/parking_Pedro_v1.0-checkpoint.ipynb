{
 "cells": [
  {
   "cell_type": "markdown",
   "id": "ea972022",
   "metadata": {},
   "source": [
    "# Apêndice A."
   ]
  },
  {
   "cell_type": "code",
   "execution_count": null,
   "id": "733c698f",
   "metadata": {},
   "outputs": [],
   "source": [
    "from IPython.core.interactiveshell import InteractiveShell\n",
    "InteractiveShell.ast_node_interactivity = \"last_expr\""
   ]
  },
  {
   "cell_type": "markdown",
   "id": "c08507d3",
   "metadata": {},
   "source": [
    "## Importações."
   ]
  },
  {
   "cell_type": "code",
   "execution_count": null,
   "id": "4fdb5e49",
   "metadata": {},
   "outputs": [],
   "source": [
    "import numpy as np\n",
    "import matplotlib.pyplot as plt\n",
    "import os\n",
    "\n",
    "import tensorflow as tf\n",
    "from tensorflow import keras\n",
    "from keras import layers\n",
    "\n",
    "tf.test.gpu_device_name()\n",
    "\n",
    "flag = 1 #treinar modelo\n",
    "flag = 0 #carregar modelo !! (Comente para treinar e salvar)"
   ]
  },
  {
   "cell_type": "markdown",
   "id": "b1450815",
   "metadata": {},
   "source": [
    "## Configurações."
   ]
  },
  {
   "cell_type": "code",
   "execution_count": null,
   "id": "783dbf52",
   "metadata": {},
   "outputs": [],
   "source": [
    "input_shape = (70,50,3)\n",
    "batch = 32"
   ]
  },
  {
   "cell_type": "markdown",
   "id": "1296aa5d",
   "metadata": {},
   "source": [
    "## Importação do Dataset."
   ]
  },
  {
   "cell_type": "code",
   "execution_count": null,
   "id": "3fe8057d",
   "metadata": {},
   "outputs": [],
   "source": [
    "BASE_PATH = ['../..','datasets']\n",
    "DATASET_DIR=['dataset2','PKLotSegmented','UFPR04','todos']\n",
    "\n",
    "DATASET_DIR = os.path.join(BASE_PATH[0],BASE_PATH[1],\n",
    "                           DATASET_DIR[0],DATASET_DIR[1],DATASET_DIR[2],DATASET_DIR[3])\n",
    "\n",
    "\n",
    "X = tf.keras.preprocessing.image_dataset_from_directory(DATASET_DIR, image_size=input_shape[:2], batch_size=batch, label_mode='binary',\n",
    "                                                        seed=1, color_mode='rgb', validation_split=0.3, subset = 'training')\n",
    "\n",
    "\n",
    "X_val = tf.keras.preprocessing.image_dataset_from_directory(DATASET_DIR, image_size=input_shape[:2], batch_size=batch, label_mode='binary',\n",
    "                                                        seed=1, color_mode='rgb', validation_split=0.3, subset = 'validation')\n",
    "\n",
    "\n",
    "print('\\nClasses: {} em {}'.format(X.class_names,DATASET_DIR))"
   ]
  },
  {
   "cell_type": "markdown",
   "id": "2b8872d7",
   "metadata": {},
   "source": [
    "## Construindo o modelo e compilando."
   ]
  },
  {
   "cell_type": "code",
   "execution_count": null,
   "id": "d26ecd05",
   "metadata": {},
   "outputs": [],
   "source": [
    "input_shape = (70,50,3)\n",
    "def modelo():\n",
    "    model = keras.Sequential(\n",
    "    [\n",
    "        layers.InputLayer(input_shape),\n",
    "        layers.Conv2D(filters=32,kernel_size=5,strides=2, activation=\"relu\"),\n",
    "        layers.Conv2D(32, 3, activation=\"relu\"),\n",
    "        layers.MaxPooling2D(pool_size=3),\n",
    "        layers.BatchNormalization(),\n",
    "        \n",
    "        layers.Conv2D(32,3, activation=\"relu\"),\n",
    "        layers.Conv2D(32,3, activation=\"relu\"),\n",
    "        layers.MaxPooling2D(2),\n",
    "        layers.BatchNormalization(),\n",
    "        \n",
    "        layers.Flatten(),\n",
    "        layers.Dense(48,activation='relu'),\n",
    "        layers.Dropout(0.2),\n",
    "        layers.Dense(48,activation='relu'),\n",
    "        layers.Dropout(0.2),\n",
    "        layers.Dense(1, activation=\"sigmoid\"),\n",
    "    ]\n",
    ")\n",
    "\n",
    "    return model\n",
    "\n",
    "model = modelo()\n",
    "\n",
    "model.compile(optimizer='adam',loss='binary_crossentropy',metrics=['accuracy'])\n",
    "#model.summary()\n",
    "keras.utils.plot_model(model, \"arquitetura.png\", show_shapes=True)"
   ]
  },
  {
   "cell_type": "markdown",
   "id": "60147c37",
   "metadata": {},
   "source": [
    "## Testando os Labels carregadas da base de treinamento."
   ]
  },
  {
   "cell_type": "code",
   "execution_count": null,
   "id": "ef60436c",
   "metadata": {},
   "outputs": [],
   "source": [
    "plt.figure(figsize=(10, 10))\n",
    "for images, labels in X.take(1):\n",
    "    for i in range(12):\n",
    "        ax = plt.subplot(3, 4, i + 1)\n",
    "        plt.imshow(images[i].numpy().astype(\"uint8\"))\n",
    "        plt.title(int(labels[i]))\n",
    "        plt.axis(\"off\")"
   ]
  },
  {
   "cell_type": "markdown",
   "id": "35218ef5",
   "metadata": {},
   "source": [
    "### Exemplo de Imagem não segmentada."
   ]
  },
  {
   "cell_type": "code",
   "execution_count": null,
   "id": "b8deef44",
   "metadata": {},
   "outputs": [],
   "source": [
    "img_full = os.path.join(BASE_PATH[0],BASE_PATH[1],\n",
    "                        'PKLot','UFPR04','Sunny','todas','2012-12-07_17_12_25.jpg')\n",
    "\n",
    "img_full = plt.imread(img_full)\n",
    "plt.imshow(img_full)"
   ]
  },
  {
   "cell_type": "markdown",
   "id": "c3f1020c",
   "metadata": {},
   "source": [
    "## Treinando o modelo."
   ]
  },
  {
   "cell_type": "code",
   "execution_count": null,
   "id": "ef3eb7f6",
   "metadata": {},
   "outputs": [],
   "source": [
    "%%time\n",
    "\n",
    "if flag:\n",
    "    model.fit(X, epochs=9)\n",
    "else:\n",
    "    LOAD_DIR = os.path.split(DATASET_DIR)[0] # Separa (head,tail) -> Indice [0] = head\n",
    "    LOAD_DIR = os.path.join(LOAD_DIR,'model1')\n",
    "\n",
    "    model = keras.models.load_model(LOAD_DIR)\n",
    "    "
   ]
  },
  {
   "cell_type": "markdown",
   "id": "ded8624e",
   "metadata": {},
   "source": [
    "## Validação do modelo treinado. (testando na base de dados de validação)"
   ]
  },
  {
   "cell_type": "code",
   "execution_count": null,
   "id": "d6aeb6dd",
   "metadata": {},
   "outputs": [],
   "source": [
    "score = model.evaluate(X_val, verbose=2)\n",
    "print(\"Test loss:\", score[0])\n",
    "print(\"Test accuracy:\", score[1])"
   ]
  },
  {
   "cell_type": "markdown",
   "id": "cf81d234",
   "metadata": {},
   "source": [
    "## Salvando o modelo treinado."
   ]
  },
  {
   "cell_type": "code",
   "execution_count": null,
   "id": "3afa0ed1",
   "metadata": {},
   "outputs": [],
   "source": [
    "if flag:\n",
    "    SAVE_DIR = os.path.split(DATASET_DIR)[0] # Separa (head,tail) -> Indice [0] = head\n",
    "    SAVE_DIR = os.path.join(SAVE_DIR,'model1')\n",
    "    model.save(\n",
    "        SAVE_DIR,\n",
    "        overwrite=False,\n",
    "        include_optimizer=True,\n",
    "        save_format=None,\n",
    "        signatures=None,\n",
    "        options=None,\n",
    "        save_traces=True,\n",
    "    )"
   ]
  },
  {
   "cell_type": "markdown",
   "id": "b666b652",
   "metadata": {},
   "source": [
    "## Validação individual (random) na base de treinamento"
   ]
  },
  {
   "cell_type": "code",
   "execution_count": null,
   "id": "bc584ae0",
   "metadata": {},
   "outputs": [],
   "source": [
    "path = X.file_paths[np.random.randint(len(X.file_paths))]\n",
    "img = keras.preprocessing.image.load_img(path, target_size=input_shape[:2])\n",
    "img_array = keras.preprocessing.image.img_to_array(img)\n",
    "img_array = tf.expand_dims(img_array,  0)\n",
    "\n",
    "predictions = model.predict(img_array)\n",
    "score = predictions[0]\n",
    "\n",
    "print(\n",
    "    'Vaga livre: %.2f porcento.\\nVaga ocupada %.2f porcento.'\n",
    "    % (100 * (1 - score), 100 * score)\n",
    ")\n",
    "\n",
    "plot = plt.imread(path)\n",
    "plt.imshow(plot)\n"
   ]
  },
  {
   "cell_type": "markdown",
   "id": "b707c805",
   "metadata": {},
   "source": [
    "## Validação individual (random) no Banco de testes"
   ]
  },
  {
   "cell_type": "code",
   "execution_count": null,
   "id": "0f8af5b8",
   "metadata": {},
   "outputs": [],
   "source": [
    "path = X_val.file_paths[np.random.randint(len(X_val.file_paths))]\n",
    "img = keras.preprocessing.image.load_img(path, target_size=input_shape[:2])\n",
    "img_array = keras.preprocessing.image.img_to_array(img)\n",
    "img_array = tf.expand_dims(img_array,  0)\n",
    "\n",
    "predictions = model.predict(img_array)\n",
    "score = predictions[0]\n",
    "\n",
    "print(\n",
    "    'Vaga livre: %.2f porcento.\\nVaga ocupada %.2f porcento.'\n",
    "    % (100 * (1 - score), 100 * score)\n",
    ")\n",
    "\n",
    "plot = plt.imread(path)\n",
    "plt.imshow(plot)\n"
   ]
  },
  {
   "cell_type": "markdown",
   "id": "be94e558",
   "metadata": {},
   "source": [
    "## Debug "
   ]
  },
  {
   "cell_type": "code",
   "execution_count": null,
   "id": "eac7d754",
   "metadata": {},
   "outputs": [],
   "source": []
  },
  {
   "cell_type": "code",
   "execution_count": null,
   "id": "e99167c0",
   "metadata": {},
   "outputs": [],
   "source": []
  }
 ],
 "metadata": {
  "kernelspec": {
   "display_name": "Python 3 (ipykernel)",
   "language": "python",
   "name": "python3"
  },
  "language_info": {
   "codemirror_mode": {
    "name": "ipython",
    "version": 3
   },
   "file_extension": ".py",
   "mimetype": "text/x-python",
   "name": "python",
   "nbconvert_exporter": "python",
   "pygments_lexer": "ipython3",
   "version": "3.8.10"
  }
 },
 "nbformat": 4,
 "nbformat_minor": 5
}
