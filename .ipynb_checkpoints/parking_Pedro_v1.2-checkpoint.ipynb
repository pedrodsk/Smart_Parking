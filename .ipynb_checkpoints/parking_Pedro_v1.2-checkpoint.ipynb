{
 "cells": [
  {
   "cell_type": "markdown",
   "id": "d6f708ca",
   "metadata": {},
   "source": [
    "# Apêndice A."
   ]
  },
  {
   "cell_type": "code",
   "execution_count": null,
   "id": "f833a29e",
   "metadata": {},
   "outputs": [],
   "source": [
    "from IPython.core.interactiveshell import InteractiveShell\n",
    "InteractiveShell.ast_node_interactivity = \"last_expr\""
   ]
  },
  {
   "cell_type": "markdown",
   "id": "73619c4c",
   "metadata": {},
   "source": [
    "## Importações."
   ]
  },
  {
   "cell_type": "code",
   "execution_count": null,
   "id": "e5c2514e",
   "metadata": {},
   "outputs": [],
   "source": [
    "import numpy as np\n",
    "import matplotlib.pyplot as plt\n",
    "import os\n",
    "import cv2\n",
    "import sys\n",
    "import xml.etree.ElementTree as ET\n",
    "\n",
    "import tensorflow as tf\n",
    "from tensorflow import keras\n",
    "from keras import layers\n",
    "\n",
    "\n",
    "tf.test.gpu_device_name()\n",
    "\n",
    "flag = 1 #treinar modelo\n",
    "flag = 0 #carregar modelo !! (Comente para treinar e salvar)"
   ]
  },
  {
   "cell_type": "markdown",
   "id": "fef334ff",
   "metadata": {},
   "source": [
    "## Configurações."
   ]
  },
  {
   "cell_type": "code",
   "execution_count": null,
   "id": "e7352b78",
   "metadata": {},
   "outputs": [],
   "source": [
    "input_shape = (128,128,3)\n",
    "batch = 32\n",
    "\n",
    "vagas = 40\n",
    "pontos = vagas*4"
   ]
  },
  {
   "cell_type": "markdown",
   "id": "d862954e",
   "metadata": {},
   "source": [
    "## Importação do Dataset."
   ]
  },
  {
   "cell_type": "code",
   "execution_count": null,
   "id": "1911bc83",
   "metadata": {},
   "outputs": [],
   "source": [
    "BASE_PATH = ['../..','datasets']\n",
    "DATASET_DIR=['PKLot','UFPR05']\n",
    "\n",
    "DATASET_DIR = os.path.join(BASE_PATH[0],BASE_PATH[1],\n",
    "                           DATASET_DIR[0],DATASET_DIR[1])\n",
    "DATASET_DIR"
   ]
  },
  {
   "cell_type": "code",
   "execution_count": null,
   "id": "9a1113a1",
   "metadata": {},
   "outputs": [],
   "source": [
    "BASE_PATH = ['../..','datasets']\n",
    "DATASET_DIR=['PKLot','UFPR05']\n",
    "\n",
    "DATASET_DIR = os.path.join(BASE_PATH[0],BASE_PATH[1],\n",
    "                           DATASET_DIR[0],DATASET_DIR[1])\n",
    "\n",
    "DADOS_DIR = os.path.join(DATASET_DIR,'output')\n",
    "X = tf.keras.preprocessing.image_dataset_from_directory(DADOS_DIR, image_size=input_shape[:2], batch_size=batch, label_mode='binary',\n",
    "                                                        seed=1, color_mode='rgb', validation_split=0.3, subset = 'training')\n",
    "\n",
    "\n",
    "X_val = tf.keras.preprocessing.image_dataset_from_directory(DADOS_DIR, image_size=input_shape[:2], batch_size=batch, label_mode='binary',\n",
    "                                                        seed=1, color_mode='rgb', validation_split=0.3, subset = 'validation')\n",
    "\n",
    "\n",
    "print('\\nClasses: {} em {}'.format(X.class_names,DADOS_DIR))"
   ]
  },
  {
   "cell_type": "code",
   "execution_count": null,
   "id": "63237755",
   "metadata": {},
   "outputs": [],
   "source": [
    "IMAGE_DIR = os.path.join(DATASET_DIR,'todas')\n",
    "XML_DIR = IMAGE_DIR\n",
    "\n",
    "\n",
    "IMAGE_LIST = []\n",
    "XML_LIST = []\n",
    "def criarLista():\n",
    "    for file in os.listdir(IMAGE_DIR):\n",
    "        if file.endswith(\".jpg\"):\n",
    "\n",
    "            file = os.path.join(IMAGE_DIR,file)\n",
    "            IMAGE_LIST.append(file)\n",
    "    IMAGE_LIST.sort()\n",
    "\n",
    "    for file in os.listdir(IMAGE_DIR):\n",
    "        if file.endswith(\".xml\"):\n",
    "\n",
    "            file = os.path.join(XML_DIR,file)\n",
    "            XML_LIST.append(file)\n",
    "    XML_LIST.sort()\n",
    "\n",
    "\n",
    "criarLista()\n",
    "#debug\n",
    "print(IMAGE_DIR)\n",
    "print(XML_DIR)\n",
    "print(IMAGE_LIST[:2])\n",
    "print(XML_LIST[:2])"
   ]
  },
  {
   "cell_type": "markdown",
   "id": "cd6d5f1f",
   "metadata": {},
   "source": [
    "## Construindo o modelo e compilando."
   ]
  },
  {
   "cell_type": "code",
   "execution_count": null,
   "id": "cfb8e7b7",
   "metadata": {},
   "outputs": [],
   "source": [
    "def modelo():\n",
    "    model = keras.Sequential(\n",
    "    [\n",
    "        layers.InputLayer(input_shape),\n",
    "        layers.Conv2D(filters=32,kernel_size=5,strides=2, activation=\"relu\"),\n",
    "        layers.Conv2D(32, 3, activation=\"relu\"),\n",
    "        layers.MaxPooling2D(pool_size=3),\n",
    "        layers.BatchNormalization(),\n",
    "        \n",
    "        layers.Conv2D(32,3, activation=\"relu\"),\n",
    "        layers.Conv2D(32,3, activation=\"relu\"),\n",
    "        layers.MaxPooling2D(2),\n",
    "        layers.BatchNormalization(),\n",
    "        \n",
    "        layers.Flatten(),\n",
    "        layers.Dense(48,activation='relu'),\n",
    "        layers.Dropout(0.3),\n",
    "        layers.Dense(48,activation='relu'),\n",
    "        layers.Dropout(0.3),\n",
    "        layers.Dense(1, activation=\"sigmoid\"),\n",
    "    ]\n",
    ")\n",
    "\n",
    "    return model\n",
    "\n",
    "model = modelo()\n",
    "\n",
    "model.compile(optimizer='adam',loss='binary_crossentropy',metrics=['accuracy'])\n",
    "model.summary()\n",
    "keras.utils.plot_model(model, \"./images/arquitetura.png\", show_shapes=True)"
   ]
  },
  {
   "cell_type": "markdown",
   "id": "2555f2e6",
   "metadata": {},
   "source": [
    "## Testando os Labels carregadas da base de treinamento."
   ]
  },
  {
   "cell_type": "code",
   "execution_count": null,
   "id": "09b692d5",
   "metadata": {},
   "outputs": [],
   "source": [
    "plt.figure(figsize=(10, 10))\n",
    "for images, labels in X.take(1):\n",
    "    for i in range(12):\n",
    "        ax = plt.subplot(3, 4, i + 1)\n",
    "        plt.imshow(images[i].numpy().astype(\"uint8\"))\n",
    "        plt.title(int(labels[i]))\n",
    "        plt.axis(\"off\")"
   ]
  },
  {
   "cell_type": "markdown",
   "id": "aec08cec",
   "metadata": {},
   "source": [
    "### Exemplo de Imagem não segmentada."
   ]
  },
  {
   "cell_type": "code",
   "execution_count": null,
   "id": "eee953f4",
   "metadata": {},
   "outputs": [],
   "source": [
    "sort = np.random.randint(len(IMAGE_LIST))\n",
    "\n",
    "fig = plt.figure(figsize=(20, 20))\n",
    "image = plt.imread(IMAGE_LIST[sort])\n",
    "plt.imshow(image)\n",
    "plt.title(IMAGE_LIST[sort])\n",
    "plt.axis(\"off\")"
   ]
  },
  {
   "cell_type": "markdown",
   "id": "1474dd4a",
   "metadata": {},
   "source": [
    "## Treinando o modelo."
   ]
  },
  {
   "cell_type": "code",
   "execution_count": null,
   "id": "97435be9",
   "metadata": {},
   "outputs": [],
   "source": [
    "%%time\n",
    "\n",
    "if flag:\n",
    "    model.fit(X, epochs=10)\n",
    "else:\n",
    "    #LOAD_DIR = os.path.split(DATASET_DIR)[0] # Separa (head,tail) -> Indice [0] = head\n",
    "    LOAD_DIR = os.path.join(DATASET_DIR,'model')\n",
    "\n",
    "    model = keras.models.load_model(LOAD_DIR)\n",
    "    "
   ]
  },
  {
   "cell_type": "markdown",
   "id": "4cf4603e",
   "metadata": {},
   "source": [
    "## Validação do modelo treinado. (testando na base de dados de validação)"
   ]
  },
  {
   "cell_type": "code",
   "execution_count": null,
   "id": "e7f44ac5",
   "metadata": {},
   "outputs": [],
   "source": [
    "if flag:\n",
    "    score = model.evaluate(X_val, verbose=2)\n",
    "    print(\"Test loss:\", score[0])\n",
    "    print(\"Test accuracy:\", score[1])"
   ]
  },
  {
   "cell_type": "markdown",
   "id": "36096cb8",
   "metadata": {},
   "source": [
    "## Salvando o modelo treinado."
   ]
  },
  {
   "cell_type": "code",
   "execution_count": null,
   "id": "1d273352",
   "metadata": {},
   "outputs": [],
   "source": [
    "if flag:\n",
    "    SAVE_DIR = os.path.split(DATASET_DIR)[0] # Separa (head,tail) -> Indice [0] = head\n",
    "    SAVE_DIR = os.path.join(DATASET_DIR,'model')\n",
    "    model.save(\n",
    "        SAVE_DIR,\n",
    "        overwrite=False,\n",
    "        include_optimizer=True,\n",
    "        save_format=None,\n",
    "        signatures=None,\n",
    "        options=None,\n",
    "        save_traces=True,\n",
    "    )"
   ]
  },
  {
   "cell_type": "markdown",
   "id": "47cec3a4",
   "metadata": {},
   "source": [
    "## Validação individual (random) na base de treinamento"
   ]
  },
  {
   "cell_type": "code",
   "execution_count": null,
   "id": "f05d6356",
   "metadata": {},
   "outputs": [],
   "source": [
    "path = X.file_paths[np.random.randint(len(X.file_paths))]\n",
    "img = keras.preprocessing.image.load_img(path, target_size=input_shape[:2])\n",
    "img_array = keras.preprocessing.image.img_to_array(img)\n",
    "img_array = tf.expand_dims(img_array,  0)\n",
    "\n",
    "predictions = model.predict(img_array)\n",
    "score = predictions[0]\n",
    "\n",
    "print(\n",
    "    'Vaga livre: %.2f porcento.\\nVaga ocupada %.2f porcento.'\n",
    "    % (100 * (1 - score), 100 * score)\n",
    ")\n",
    "\n",
    "#plot = plt.imread(path)\n",
    "#plt.imshow(img,cmap='gray')\n",
    "plt.imshow(img)"
   ]
  },
  {
   "cell_type": "markdown",
   "id": "ef86ee01",
   "metadata": {},
   "source": [
    "## Validação individual (random) no Banco de testes"
   ]
  },
  {
   "cell_type": "code",
   "execution_count": null,
   "id": "3d1528a1",
   "metadata": {},
   "outputs": [],
   "source": [
    "path = X_val.file_paths[np.random.randint(len(X_val.file_paths))]\n",
    "img = keras.preprocessing.image.load_img(path, target_size=input_shape[:2])\n",
    "img_array = keras.preprocessing.image.img_to_array(img)\n",
    "img_array = tf.expand_dims(img_array,  0)\n",
    "\n",
    "predictions = model.predict(img_array)\n",
    "score = predictions[0]\n",
    "\n",
    "print(\n",
    "    'Vaga livre: %.2f porcento.\\nVaga ocupada %.2f porcento.'\n",
    "    % (100 * (1 - score), 100 * score)\n",
    ")\n",
    "\n",
    "#plot = plt.imread(path)\n",
    "plt.imshow(img)\n"
   ]
  },
  {
   "cell_type": "code",
   "execution_count": null,
   "id": "cdd70d7a",
   "metadata": {},
   "outputs": [],
   "source": []
  },
  {
   "cell_type": "code",
   "execution_count": null,
   "id": "475f9506",
   "metadata": {},
   "outputs": [],
   "source": []
  },
  {
   "cell_type": "code",
   "execution_count": null,
   "id": "a8949b9b",
   "metadata": {},
   "outputs": [],
   "source": []
  },
  {
   "cell_type": "code",
   "execution_count": null,
   "id": "ff49add9",
   "metadata": {},
   "outputs": [],
   "source": [
    "tree = ET.parse(XML_LIST[0])\n",
    "root = tree.getroot()\n",
    "\n",
    "pts = np.empty(0,np.int32)\n",
    "vaga = np.empty(0,np.int32)\n",
    "\n",
    "for neighbor in root.iter('point'):\n",
    "    #print(neighbor.attrib)\n",
    "    x,y = neighbor.attrib.values()\n",
    "    x = int(x)\n",
    "    y = int(y)\n",
    "    a = [x,y]\n",
    "    pts = np.append(pts,[x,y])\n",
    "    \n",
    "for neighbor in root.iter('space'):\n",
    "    #print(neighbor.attrib)\n",
    "    if(len(neighbor.attrib.values())==2):\n",
    "        _,occupied = neighbor.attrib.values()\n",
    "        occupied = int(occupied)\n",
    "    if(len(neighbor.attrib.values())==1):\n",
    "        occupied=0\n",
    "        \n",
    "    vaga = np.append(vaga,occupied)\n",
    "\n",
    "#debug\n",
    "print(pts[0:4])\n",
    "print(vaga[0:40])\n",
    "\n",
    "paresXY = np.array(np.zeros((pontos,2)),np.int32) \n",
    "j=0\n",
    "for i in range(pontos):\n",
    "    paresXY[i] = pts[j:j+2]\n",
    "    j = j+2\n",
    "\n",
    "#debug\n",
    "paresXY[0:4]"
   ]
  },
  {
   "cell_type": "code",
   "execution_count": null,
   "id": "43b61e19",
   "metadata": {},
   "outputs": [],
   "source": [
    "def crop(j=0,i=0,vaga=2,lista=5):\n",
    "    rect = cv2.boundingRect(paresXY[j:j+4])\n",
    "    x,y,w,h = rect\n",
    "    croped = im2[y:y+h, x:x+w].copy()\n",
    "\n",
    "    pts = paresXY[j:j+4] - paresXY[j:j+4].min(axis=0)\n",
    "    mask = np.zeros(croped.shape[:2], croped.dtype)\n",
    "    cv2.drawContours(mask, [pts], -1, (255, 255, 255), -1, cv2.LINE_AA)\n",
    "\n",
    "    ## (3) do bit-op\n",
    "    dst = cv2.bitwise_and(croped, croped, mask=mask) #background preto\n",
    "\n",
    "    bg = np.ones_like(croped, np.uint8)*255\n",
    "    cv2.bitwise_not(bg,bg, mask=mask)\n",
    "    dst2 = bg+ dst #background branco\n",
    "    \n",
    "    image = cv2.resize(dst2, (128,128), interpolation = cv2.INTER_CUBIC)\n",
    "    \n",
    "    img = image.copy()\n",
    "    cv2.cvtColor(img, cv2.COLOR_BGR2GRAY)\n",
    "    img_array = keras.preprocessing.image.img_to_array(img)\n",
    "    img_array = tf.expand_dims(img_array,  0)\n",
    "\n",
    "    predictions = model.predict(img_array)\n",
    "    score = predictions[0]\n",
    "    score = float(score)\n",
    "    return score\n",
    "    "
   ]
  },
  {
   "cell_type": "code",
   "execution_count": null,
   "id": "d3b002fa",
   "metadata": {},
   "outputs": [],
   "source": [
    "def juntar(im,im2,scale=80):\n",
    "    \n",
    "    img = np.hstack((im2, im))\n",
    "    \n",
    "    scale_percent = scale # percent of original size\n",
    "    width = int(img.shape[1] * scale_percent / 100)\n",
    "    height = int(img.shape[0] * scale_percent / 100)\n",
    "    dim = (width, height)\n",
    "    resized = cv2.resize(img, dim, interpolation = cv2.INTER_AREA)  \n",
    "    return resized"
   ]
  },
  {
   "cell_type": "code",
   "execution_count": null,
   "id": "84250689",
   "metadata": {},
   "outputs": [],
   "source": [
    "for i in range (10): #só repetição\n",
    "    \n",
    "    sort = np.random.randint(len(IMAGE_LIST))\n",
    "    im = cv2.imread(IMAGE_LIST[sort])\n",
    "    im2 = im.copy()\n",
    "    if im is None:\n",
    "        sys.exit(\"A imagem não foi carregada.\")\n",
    "\n",
    "    j=0\n",
    "    contador = 0\n",
    "    for i in range(len(paresXY)//4):\n",
    "\n",
    "        score = crop(j,i,vaga[i])\n",
    "        #print(score)\n",
    "        if((score)<0.7):\n",
    "            cv2.polylines(im,[paresXY[j:j+4]],True,(0,255,255),2)\n",
    "            contador = contador +1\n",
    "            print(score)\n",
    "        j=j+4\n",
    "        \n",
    "        \n",
    "\n",
    "    cv2.putText(im,str(contador),(10,700), cv2.FONT_HERSHEY_SIMPLEX, 4,(255,255,255),5,cv2.LINE_AA)\n",
    "    img_junta = juntar(im,im2,70)\n",
    "\n",
    "    cv2.imshow(IMAGE_LIST[sort], img_junta)\n",
    "    k = cv2.waitKey(3000)\n",
    "    cv2.destroyAllWindows()\n",
    "# if k == ord('q'):\n",
    "#     cv2.destroyAllWindows()\n",
    "\n",
    "#image = cv2.cvtColor(im,cv2.COLOR_BGR2RGB)\n",
    "#plt.imshow(image)"
   ]
  },
  {
   "cell_type": "code",
   "execution_count": null,
   "id": "0c32073e",
   "metadata": {},
   "outputs": [],
   "source": [
    "np.random.randint(len(IMAGE_LIST))\n",
    "    "
   ]
  },
  {
   "cell_type": "code",
   "execution_count": null,
   "id": "9ba7fbb7",
   "metadata": {},
   "outputs": [],
   "source": [
    "X_val.file_paths[np.random.randint(len(X_val.file_paths))]"
   ]
  },
  {
   "cell_type": "markdown",
   "id": "e04dfd18",
   "metadata": {},
   "source": [
    "## Debug "
   ]
  }
 ],
 "metadata": {
  "kernelspec": {
   "display_name": "Python 3 (ipykernel)",
   "language": "python",
   "name": "python3"
  },
  "language_info": {
   "codemirror_mode": {
    "name": "ipython",
    "version": 3
   },
   "file_extension": ".py",
   "mimetype": "text/x-python",
   "name": "python",
   "nbconvert_exporter": "python",
   "pygments_lexer": "ipython3",
   "version": "3.8.10"
  }
 },
 "nbformat": 4,
 "nbformat_minor": 5
}
