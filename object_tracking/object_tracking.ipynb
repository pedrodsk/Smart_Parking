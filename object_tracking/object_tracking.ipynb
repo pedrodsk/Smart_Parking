{
 "cells": [
  {
   "cell_type": "code",
   "execution_count": 1,
   "id": "e9763d70-b35d-4b9c-ad3b-8e633d4e74fa",
   "metadata": {},
   "outputs": [],
   "source": []
  },
  {
   "cell_type": "code",
   "execution_count": 2,
   "id": "ca6512e6-d2f7-4c5a-914c-e79ed062dca6",
   "metadata": {},
   "outputs": [],
   "source": []
  },
  {
   "cell_type": "code",
   "execution_count": 2,
   "id": "7687b2ab-495c-4db0-98c3-29ba284c3728",
   "metadata": {},
   "outputs": [],
   "source": [
    "import cv2\n",
    "\n",
    "#object detection from stable camera\n",
    "object_detector = cv2.createBackgroundSubtractorMOG2(history=100,varThreshold=40,detectShadows = True)\n",
    "\n",
    "cap = cv2.VideoCapture(\"highway.mp4\")\n",
    "\n",
    "while(cap.isOpened()):\n",
    "    ret,frame= cap.read()\n",
    "    if ret == True:\n",
    "    \n",
    "    # Extract Region of interest\n",
    "    \n",
    "        hight,width,_ = frame.shape\n",
    "    #print(hight,width)\n",
    "        roi = frame[450:500,560:800]\n",
    "    \n",
    "    #object Detection\n",
    "        mask = object_detector.apply(roi)\n",
    "        _, mask = cv2.threshold(mask,254,255,cv2.THRESH_BINARY)\n",
    "        contours, _ = cv2.findContours(mask, cv2.RETR_TREE, cv2.CHAIN_APPROX_SIMPLE)\n",
    "    \n",
    "        for cnt in contours:\n",
    "            area = cv2.contourArea(cnt)\n",
    "            if area>100:\n",
    "                #cv2.drawContours(roi,[cnt],-1,(255,255,0),2)\n",
    "                x,y,w,h = cv2.boundingRect(cnt)\n",
    "                cv2.rectangle(roi,(x,y),(x+w,y+h),(0,255,0),2)\n",
    "                \n",
    "    \n",
    "        cv2.imshow(\"Video\",frame)\n",
    "        #cv2.imshow(\"Mask\", mask)\n",
    "        #cv2.imshow(\"roi\",roi)\n",
    "    \n",
    "        key = cv2.waitKey(30)\n",
    "    \n",
    "        if key == ord('q'):\n",
    "            break\n",
    "       \n",
    "    else:\n",
    "        break\n",
    "\n",
    "cap.release()\n",
    "cv2.destroyAllWindows()\n",
    "    \n",
    "    "
   ]
  },
  {
   "cell_type": "code",
   "execution_count": null,
   "id": "a6d90481-1af3-48e1-995f-329ad64e2090",
   "metadata": {},
   "outputs": [],
   "source": [
    "\n"
   ]
  },
  {
   "cell_type": "code",
   "execution_count": null,
   "id": "209c3c32-e625-48c7-b1c1-2c09b68726fb",
   "metadata": {},
   "outputs": [],
   "source": []
  }
 ],
 "metadata": {
  "kernelspec": {
   "display_name": "Python 3 (ipykernel)",
   "language": "python",
   "name": "python3"
  },
  "language_info": {
   "codemirror_mode": {
    "name": "ipython",
    "version": 3
   },
   "file_extension": ".py",
   "mimetype": "text/x-python",
   "name": "python",
   "nbconvert_exporter": "python",
   "pygments_lexer": "ipython3",
   "version": "3.8.11"
  }
 },
 "nbformat": 4,
 "nbformat_minor": 5
}
